{
 "cells": [
  {
   "cell_type": "markdown",
   "metadata": {},
   "source": [
    "# 科学计算神器之numpy-1\n",
    "\n",
    "> * 这个系列主要集中在python做科学计算的Numpy、Scipy等库，当然原汁原味的知识才是最好的，请查看https://docs.scipy.org/\n",
    "> * Numpy系列包含ndarray、ufunc、矩阵运算和文件存取"
   ]
  },
  {
   "cell_type": "markdown",
   "metadata": {},
   "source": [
    "Numpy主要包含两种数据结构：Array和Matrix，以及对应的的Ufunc函数\n",
    "\n",
    "## 1. 安装numpy"
   ]
  },
  {
   "cell_type": "markdown",
   "metadata": {},
   "source": [
    "```shell\n",
    "#终端命令 或用canda，已包含numpy、scipy等\n",
    "sudo pip install numpy\n",
    "```"
   ]
  },
  {
   "cell_type": "markdown",
   "metadata": {},
   "source": [
    "## 2. 导入numpy"
   ]
  },
  {
   "cell_type": "code",
   "execution_count": 107,
   "metadata": {
    "collapsed": true,
    "scrolled": true
   },
   "outputs": [],
   "source": [
    "import numpy as np"
   ]
  },
  {
   "cell_type": "markdown",
   "metadata": {},
   "source": [
    "## 3. 创建对象\n",
    "Numpy最主要的对象是均匀的多维数组，我们可以通过给array函数传递Python的序列对象创建数组，如果传递的是多层嵌套的序列，将创建多维数组。Numpy的array类叫做ndarray，也就是通常说的array，numpy.array与python的array.array是不同的，它仅提供一维数组和少量函数。\n",
    "\n",
    "#### 3.1 ndarray最常用的属性\n",
    "* ndarray.ndim  \n",
    "        —array的维数，及数组维数，python中被称为秩rank\n",
    "* ndarray.shape     \n",
    "        —array的每个维度的长度，及各个维度数组的长度，是一个tuple，eg:(4, 5),tuple的长度即为rank\n",
    "\n",
    "* ndarray.size \n",
    "        —array的元素个数\n",
    "\n",
    "* ndarray.dtype  \n",
    "        —array元素的类型，常见的numpy.int64, numpy.int32, numpy.int16, numpy.float64, Numpy默认数据类型为numpy.int64(不同版本会有区别)\n",
    "* ndarray.itemsize    \n",
    "        —array元素的字节长，例如，float64为8字节（=64/8），complex32为4字节 (=32/8). 它等同于ndarray.dtype.itemsize.\n",
    "* ndarray.data    \n",
    "        —缓存中存有的实际array元素，一般不用这个属性对array进行索引取值"
   ]
  },
  {
   "cell_type": "code",
   "execution_count": 108,
   "metadata": {
    "scrolled": true
   },
   "outputs": [
    {
     "data": {
      "text/plain": [
       "array([[1, 2, 3],\n",
       "       [4, 5, 6]])"
      ]
     },
     "execution_count": 108,
     "metadata": {},
     "output_type": "execute_result"
    }
   ],
   "source": [
    "# 采用python list, numpy默认dtype为int64，默认的dtype不显示\n",
    "a = np.array([[1, 2, 3], [4, 5, 6]])  \n",
    "a"
   ]
  },
  {
   "cell_type": "code",
   "execution_count": 109,
   "metadata": {
    "scrolled": false
   },
   "outputs": [
    {
     "data": {
      "text/plain": [
       "(2, (2, 3), 6, dtype('int64'), 8)"
      ]
     },
     "execution_count": 109,
     "metadata": {},
     "output_type": "execute_result"
    }
   ],
   "source": [
    "# 下面返回一个tuple\n",
    "a.ndim, a.shape, a.size, a.dtype, a.itemsize"
   ]
  },
  {
   "cell_type": "code",
   "execution_count": 110,
   "metadata": {
    "scrolled": true
   },
   "outputs": [
    {
     "data": {
      "text/plain": [
       "<read-write buffer for 0x7f79d8655c60, size 48, offset 0 at 0x7f79d8647e30>"
      ]
     },
     "execution_count": 110,
     "metadata": {},
     "output_type": "execute_result"
    }
   ],
   "source": [
    " a.data"
   ]
  },
  {
   "cell_type": "code",
   "execution_count": 111,
   "metadata": {},
   "outputs": [
    {
     "data": {
      "text/plain": [
       "array([[1, 2],\n",
       "       [3, 4],\n",
       "       [5, 6]])"
      ]
     },
     "execution_count": 111,
     "metadata": {},
     "output_type": "execute_result"
    }
   ],
   "source": [
    "# 利用reshape函数可以修改array尺寸产生新array，总elements不变\n",
    "a.reshape(3,2)"
   ]
  },
  {
   "cell_type": "markdown",
   "metadata": {},
   "source": [
    "#### 3.2 创建array对象—根据python序列对象和数据类型创建"
   ]
  },
  {
   "cell_type": "code",
   "execution_count": 112,
   "metadata": {},
   "outputs": [
    {
     "data": {
      "text/plain": [
       "array([[ 1.,  2.,  3.],\n",
       "       [ 4.,  5.,  6.]])"
      ]
     },
     "execution_count": 112,
     "metadata": {},
     "output_type": "execute_result"
    }
   ],
   "source": [
    "# 一种参考3.1的例子，第二种是python对象： list + float\n",
    "b = np.array([[1, 2, 3], [4, 5, 6.0]])  \n",
    "b"
   ]
  },
  {
   "cell_type": "code",
   "execution_count": 113,
   "metadata": {},
   "outputs": [
    {
     "data": {
      "text/plain": [
       "array([ 1. ,  2. ,  3.1])"
      ]
     },
     "execution_count": 113,
     "metadata": {},
     "output_type": "execute_result"
    }
   ],
   "source": [
    "# python tuple + float\n",
    "np.array((1, 2, 3.1))   "
   ]
  },
  {
   "cell_type": "code",
   "execution_count": 114,
   "metadata": {
    "scrolled": true
   },
   "outputs": [
    {
     "data": {
      "text/plain": [
       "array([[1, 2, 3],\n",
       "       [4, 5, 6]])"
      ]
     },
     "execution_count": 114,
     "metadata": {},
     "output_type": "execute_result"
    }
   ],
   "source": [
    "# python 混合对象 list+tuple\n",
    "np.array(([1, 2, 3], (4, 5, 6)))  "
   ]
  },
  {
   "cell_type": "code",
   "execution_count": 115,
   "metadata": {
    "scrolled": false
   },
   "outputs": [
    {
     "data": {
      "text/plain": [
       "array([[1, 2, 3]])"
      ]
     },
     "execution_count": 115,
     "metadata": {},
     "output_type": "execute_result"
    }
   ],
   "source": [
    "# 创建2维array对象，Minimum dimensions 2，等同 np.array([[1, 2, 3]])\n",
    "np.array([1, 2, 3], ndmin=2)   "
   ]
  },
  {
   "cell_type": "code",
   "execution_count": 116,
   "metadata": {},
   "outputs": [
    {
     "data": {
      "text/plain": [
       "array([ 1.+0.j,  2.+0.j,  3.+0.j])"
      ]
     },
     "execution_count": 116,
     "metadata": {},
     "output_type": "execute_result"
    }
   ],
   "source": [
    "# 复数类型\n",
    "np.array([1, 2, 3], dtype=complex)"
   ]
  },
  {
   "cell_type": "code",
   "execution_count": 117,
   "metadata": {},
   "outputs": [
    {
     "data": {
      "text/plain": [
       "array([1, 3, 5], dtype=int32)"
      ]
     },
     "execution_count": 117,
     "metadata": {},
     "output_type": "execute_result"
    }
   ],
   "source": [
    "# 自定义数据类型 字节顺序：>为big-edian <为little-endian， i4:int32,及4个字节\n",
    "x = np.array([(1, 2), (3, 4), (5, 6)],dtype=[('a','<i4'),('b','<i8')])\n",
    "x['a']"
   ]
  },
  {
   "cell_type": "code",
   "execution_count": 118,
   "metadata": {},
   "outputs": [
    {
     "data": {
      "text/plain": [
       "array([2, 4, 6])"
      ]
     },
     "execution_count": 118,
     "metadata": {},
     "output_type": "execute_result"
    }
   ],
   "source": [
    "# Numpy默认类型为int64\n",
    "x['b']"
   ]
  },
  {
   "cell_type": "code",
   "execution_count": 119,
   "metadata": {
    "scrolled": false
   },
   "outputs": [
    {
     "data": {
      "text/plain": [
       "dtype('int64')"
      ]
     },
     "execution_count": 119,
     "metadata": {},
     "output_type": "execute_result"
    }
   ],
   "source": [
    "x['b'].dtype"
   ]
  },
  {
   "cell_type": "markdown",
   "metadata": {},
   "source": [
    "#### 3.3 创建matrix对象 / matrix转为array对象"
   ]
  },
  {
   "cell_type": "code",
   "execution_count": 120,
   "metadata": {
    "scrolled": true
   },
   "outputs": [
    {
     "data": {
      "text/plain": [
       "matrix([[1, 2],\n",
       "        [3, 4]])"
      ]
     },
     "execution_count": 120,
     "metadata": {},
     "output_type": "execute_result"
    }
   ],
   "source": [
    "# 同样可以用 python对象来创建\n",
    "np.mat([(1,2),(3,4)])"
   ]
  },
  {
   "cell_type": "code",
   "execution_count": 121,
   "metadata": {},
   "outputs": [
    {
     "data": {
      "text/plain": [
       "array([[1, 2],\n",
       "       [3, 4]])"
      ]
     },
     "execution_count": 121,
     "metadata": {},
     "output_type": "execute_result"
    }
   ],
   "source": [
    "# ！可以用数值字符串创建matrix， 并将其转为array对象\n",
    "np.array(np.mat('1 2; 3 4'))"
   ]
  },
  {
   "cell_type": "code",
   "execution_count": 122,
   "metadata": {
    "scrolled": true
   },
   "outputs": [
    {
     "data": {
      "text/plain": [
       "array(['1 2;3 4', 'a'],\n",
       "      dtype='|S7')"
      ]
     },
     "execution_count": 122,
     "metadata": {},
     "output_type": "execute_result"
    }
   ],
   "source": [
    "# 用数值字符串创建array,整体仍为字符类型的一个元素\n",
    "np.array(('1 2;3 4', 'a'))"
   ]
  },
  {
   "cell_type": "code",
   "execution_count": 123,
   "metadata": {},
   "outputs": [
    {
     "data": {
      "text/plain": [
       "matrix([[1, 2],\n",
       "        [3, 4]])"
      ]
     },
     "execution_count": 123,
     "metadata": {},
     "output_type": "execute_result"
    }
   ],
   "source": [
    "# 仍为matrix对象\n",
    "np.array(np.mat('1 2; 3 4'), subok=True)"
   ]
  },
  {
   "cell_type": "markdown",
   "metadata": {},
   "source": [
    "#### 3.4 利用函数创建array对象\n",
    "Numpy专门提供了很多函数来创建数组，常用的有arange、linspace、logspace、zeros、ones、empty等函数通过数值创建数组(类同matlab)，以及frombuffer, fromstring, fromfile等函数可以从字节序列创建数组，还可以通过fromfunction来通过函数创建数组.\n",
    "\n",
    "##### 3.4.1 通过arange、linspace、logspace等函数创建数组\n",
    "arange与linspace最主要的区别是，arange第三个参数为step，linspace/logspace第三个参数为元素个数\n",
    "* arange函数类似于python的range函数，通过指定开始值、终值和步长来创建一维数组，注意数组不包括终值:"
   ]
  },
  {
   "cell_type": "code",
   "execution_count": 124,
   "metadata": {
    "scrolled": true
   },
   "outputs": [
    {
     "data": {
      "text/plain": [
       "array([ 0. ,  0.1,  0.2,  0.3,  0.4,  0.5,  0.6,  0.7,  0.8,  0.9])"
      ]
     },
     "execution_count": 124,
     "metadata": {},
     "output_type": "execute_result"
    }
   ],
   "source": [
    "np.arange(0, 1, 0.1)"
   ]
  },
  {
   "cell_type": "markdown",
   "metadata": {},
   "source": [
    "* linspace函数通过指定开始值、终值和元素个数来创建一维数组，可以通过endpoint关键字指定是否包括终值，缺省设置是包括终值:"
   ]
  },
  {
   "cell_type": "code",
   "execution_count": 132,
   "metadata": {},
   "outputs": [
    {
     "data": {
      "text/plain": [
       "(array([ 0.        ,  0.11111111,  0.22222222,  0.33333333,  0.44444444,\n",
       "         0.55555556,  0.66666667,  0.77777778,  0.88888889,  1.        ]),\n",
       " array([ 0. ,  0.1,  0.2,  0.3,  0.4,  0.5,  0.6,  0.7,  0.8,  0.9,  1. ]),\n",
       " array([ 0. ,  0.1,  0.2,  0.3,  0.4,  0.5,  0.6,  0.7,  0.8,  0.9]))"
      ]
     },
     "execution_count": 132,
     "metadata": {},
     "output_type": "execute_result"
    }
   ],
   "source": [
    "# linspace在生成数组需计算好数组的size，生成类似range步长的数组通常size比range()的大1,\n",
    "# 或者将终值设为range()终值-step. 最后一个等同于 np.arange(0, 1, 0.1)\n",
    "np.linspace(0, 1, 10), np.linspace(0, 1, 11), np.linspace(0, 0.9, 10)"
   ]
  },
  {
   "cell_type": "markdown",
   "metadata": {},
   "source": [
    "* logspace函数和linspace类似，不过它创建等比数列，下面的例子产生1(10^0)到100(10^2)、有20个元素的等比数列:"
   ]
  },
  {
   "cell_type": "code",
   "execution_count": 126,
   "metadata": {
    "scrolled": true
   },
   "outputs": [
    {
     "data": {
      "text/plain": [
       "array([   1.        ,    1.27427499,    1.62377674,    2.06913808,\n",
       "          2.6366509 ,    3.35981829,    4.2813324 ,    5.45559478,\n",
       "          6.95192796,    8.8586679 ,   11.28837892,   14.38449888,\n",
       "         18.32980711,   23.35721469,   29.76351442,   37.92690191,\n",
       "         48.32930239,   61.58482111,   78.47599704,  100.        ])"
      ]
     },
     "execution_count": 126,
     "metadata": {},
     "output_type": "execute_result"
    }
   ],
   "source": [
    "np.logspace(0, 2, 20)"
   ]
  },
  {
   "cell_type": "code",
   "execution_count": 137,
   "metadata": {},
   "outputs": [
    {
     "data": {
      "text/plain": [
       "array([[ 0.,  0.,  0.,  0.],\n",
       "       [ 0.,  0.,  0.,  0.],\n",
       "       [ 0.,  0.,  0.,  0.]])"
      ]
     },
     "execution_count": 137,
     "metadata": {},
     "output_type": "execute_result"
    }
   ],
   "source": [
    "# 可以指定dtype\n",
    "np.zeros( (3,4) )"
   ]
  },
  {
   "cell_type": "code",
   "execution_count": 136,
   "metadata": {},
   "outputs": [
    {
     "data": {
      "text/plain": [
       "array([[[1, 1, 1, 1],\n",
       "        [1, 1, 1, 1],\n",
       "        [1, 1, 1, 1]],\n",
       "\n",
       "       [[1, 1, 1, 1],\n",
       "        [1, 1, 1, 1],\n",
       "        [1, 1, 1, 1]]], dtype=int16)"
      ]
     },
     "execution_count": 136,
     "metadata": {},
     "output_type": "execute_result"
    }
   ],
   "source": [
    "np.ones( (2,3,4), dtype=np.int16 )"
   ]
  },
  {
   "cell_type": "code",
   "execution_count": 135,
   "metadata": {},
   "outputs": [
    {
     "data": {
      "text/plain": [
       "array([[  6.92492661e-310,   6.92492661e-310,   9.01700787e+223],\n",
       "       [  3.42702482e-062,   1.12958007e+277,   7.28193369e+223]])"
      ]
     },
     "execution_count": 135,
     "metadata": {},
     "output_type": "execute_result"
    }
   ],
   "source": [
    "np.empty( (2,3) ) "
   ]
  },
  {
   "cell_type": "markdown",
   "metadata": {},
   "source": [
    "##### 3.4.2 通过frombuffer, fromstring, fromfile等函数从字节序列创建array，以fromstring为例"
   ]
  },
  {
   "cell_type": "code",
   "execution_count": 138,
   "metadata": {},
   "outputs": [
    {
     "data": {
      "text/plain": [
       "(array([ 97,  98,  99, 100, 101, 102, 103, 104], dtype=int8),\n",
       " array([7523094288207667809]),\n",
       " array([  8.54088322e+194]))"
      ]
     },
     "execution_count": 138,
     "metadata": {},
     "output_type": "execute_result"
    }
   ],
   "source": [
    "# Python的字符串实际上是字节序列，每个字符占一个字节，\n",
    "# 因此如果从字符串s创建一个8bit的整数数组的话，所得到的数组正好就是字符串中每个字符的ASCII编码\n",
    "# 通过fromstring就可以从一个数据文件或者二进制文件中读取数据来创建array\n",
    "s = 'abcdefgh'\n",
    "np.fromstring(s, dtype=np.int8),  np.fromstring(s, dtype=np.int64), np.fromstring(s, dtype=np.float64)"
   ]
  },
  {
   "cell_type": "markdown",
   "metadata": {},
   "source": [
    "##### 3.4.3 通过fromfunction创建array"
   ]
  },
  {
   "cell_type": "code",
   "execution_count": 129,
   "metadata": {
    "scrolled": false
   },
   "outputs": [
    {
     "data": {
      "text/plain": [
       "array([[  1.,   2.,   3.,   4.,   5.,   6.,   7.,   8.,   9.],\n",
       "       [  2.,   4.,   6.,   8.,  10.,  12.,  14.,  16.,  18.],\n",
       "       [  3.,   6.,   9.,  12.,  15.,  18.,  21.,  24.,  27.],\n",
       "       [  4.,   8.,  12.,  16.,  20.,  24.,  28.,  32.,  36.],\n",
       "       [  5.,  10.,  15.,  20.,  25.,  30.,  35.,  40.,  45.],\n",
       "       [  6.,  12.,  18.,  24.,  30.,  36.,  42.,  48.,  54.],\n",
       "       [  7.,  14.,  21.,  28.,  35.,  42.,  49.,  56.,  63.],\n",
       "       [  8.,  16.,  24.,  32.,  40.,  48.,  56.,  64.,  72.],\n",
       "       [  9.,  18.,  27.,  36.,  45.,  54.,  63.,  72.,  81.]])"
      ]
     },
     "execution_count": 129,
     "metadata": {},
     "output_type": "execute_result"
    }
   ],
   "source": [
    "# 创建 9×9 乘法表， 是不是很类似与 装饰器？\n",
    "def multi_2(i, j):\n",
    "    return (i+1) * (j+1)\n",
    "c = np.fromfunction(multi_2, (9,9))\n",
    "c"
   ]
  },
  {
   "attachments": {
    "%E7%94%9F%E4%BF%A1%E6%94%BE%E6%98%A0%E5%AE%A4.png": {
     "image/png": "[encoded data removed]"
    }
   },
   "cell_type": "markdown",
   "metadata": {},
   "source": [
    "Numpy弥补了Python自身的array的大量不足，为Python提供了数值计算的基础库，衍生出了大量做大数据分析的库，这奠定了Python做大数据分析的地位，也是在机器学习、深度学习逐渐进入应用领域中最常用的语言，赶快搂起袖子加油干！\n",
    "\n",
    "Enjoy it～\n",
    "\n",
    "---\n",
    "![%E7%94%9F%E4%BF%A1%E6%94%BE%E6%98%A0%E5%AE%A4.png](attachment:%E7%94%9F%E4%BF%A1%E6%94%BE%E6%98%A0%E5%AE%A4.png)"
   ]
  }
 ],
 "metadata": {
  "kernelspec": {
   "display_name": "Python 2",
   "language": "python",
   "name": "python2"
  },
  "language_info": {
   "codemirror_mode": {
    "name": "ipython",
    "version": 2
   },
   "file_extension": ".py",
   "mimetype": "text/x-python",
   "name": "python",
   "nbconvert_exporter": "python",
   "pygments_lexer": "ipython2",
   "version": "2.7.12"
  }
 },
 "nbformat": 4,
 "nbformat_minor": 2
}
